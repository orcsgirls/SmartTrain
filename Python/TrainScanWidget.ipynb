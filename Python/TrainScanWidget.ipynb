{
 "cells": [
  {
   "cell_type": "code",
   "execution_count": 1,
   "id": "204d4cf5-88ea-43b1-98f5-7bb1d20b47c8",
   "metadata": {},
   "outputs": [],
   "source": [
    "import asyncio\n",
    "import ipywidgets as widgets\n",
    "from IPython.display import display\n",
    "from intelino.trainlib_async import TrainScanner, Train"
   ]
  },
  {
   "cell_type": "code",
   "execution_count": 2,
   "id": "f2813115-eca7-4023-838e-477f598f036d",
   "metadata": {},
   "outputs": [],
   "source": [
    "async def print_info_card(train: Train, out, full: bool = True):\n",
    "    out.append_stdout(f'{\"=\"*40}\\n')\n",
    "    out.append_stdout(f'{\"Train info\":^40s}\\n')\n",
    "    out.append_stdout(f'{\"=\"*40}\\n')\n",
    "    out.append_stdout(f'{\"Advertised name\":<15s}{train.name:>25s}\\n')\n",
    "    out.append_stdout(f'{\"ID\":<4s}{train.id:>36s}\\n')\n",
    "    out.append_stdout(f'{\"=\"*40}\\n')\n",
    "\n",
    "    if not full:\n",
    "        return\n",
    "\n",
    "    # any further information requires the train to be connected\n",
    "    if not train.is_connected:\n",
    "        await train.connect()\n",
    "\n",
    "    msg = await train.get_mac_address()\n",
    "    out.append_stdout(f'{\"MAC address\":<15s}{msg.mac_address:>25s}\\n')\n",
    "\n",
    "    msg = await train.get_uuid()\n",
    "    out.append_stdout(f'{\"UUID\":<15s}{msg.uuid:>25s}\\n')\n",
    "\n",
    "    msg = await train.get_version_info()\n",
    "    out.append_stdout(f'{\"FW version\":<15s}{str(msg.fw_version):>25s}\\n')\n",
    "    out.append_stdout(f'{\"BLE API version\":<15s}{str(msg.ble_api_version):>25s}\\n')\n",
    "\n",
    "    msg = await train.get_stats_lifetime_odometer()\n",
    "    out.append_stdout(f'{\"Odometer\":<15s}{msg.lifetime_odometer_meters:18.2f} meters\\n')\n",
    "\n",
    "    out.append_stdout(f'{\"=\"*40}\\n')"
   ]
  },
  {
   "cell_type": "code",
   "execution_count": 3,
   "id": "30f566a4-f6f7-4567-add9-29cf06fd92da",
   "metadata": {},
   "outputs": [],
   "source": [
    "async def train_info(out):\n",
    "    # collection of our trains\n",
    "    # find all trains (search for max 2 seconds)\n",
    "    trains = await TrainScanner(timeout=2.0).get_trains(\n",
    "        connect=False,\n",
    "    )\n",
    "\n",
    "    # inspect them one by one\n",
    "    for train in trains:\n",
    "        await print_info_card(train, out, full=True)\n",
    "        await train.disconnect()\n",
    "        out.append_stdout(\"Disconnected.\")\n",
    "        \n",
    "    if len(trains) == 0:\n",
    "        out.append_stdout(\"No trains found.\")"
   ]
  },
  {
   "cell_type": "code",
   "execution_count": 4,
   "id": "f57e65de-e2d0-4a88-9e18-337063c01ef5",
   "metadata": {},
   "outputs": [],
   "source": [
    "button = widgets.Button(description=\"Scan for trains\")\n",
    "out = widgets.Output()"
   ]
  },
  {
   "cell_type": "code",
   "execution_count": 5,
   "id": "937a1696-4912-4604-ad31-611a1c9b7d3b",
   "metadata": {},
   "outputs": [],
   "source": [
    "loop = asyncio.get_running_loop()"
   ]
  },
  {
   "cell_type": "code",
   "execution_count": 6,
   "id": "f98aed04-21e8-4b36-8a4c-8268336e58c6",
   "metadata": {},
   "outputs": [
    {
     "data": {
      "application/vnd.jupyter.widget-view+json": {
       "model_id": "d55b76243af34f7b8f11a14a0e88e737",
       "version_major": 2,
       "version_minor": 0
      },
      "text/plain": [
       "Button(description='Scan for trains', style=ButtonStyle())"
      ]
     },
     "metadata": {},
     "output_type": "display_data"
    },
    {
     "data": {
      "application/vnd.jupyter.widget-view+json": {
       "model_id": "b13104ae4b55482c93ae8318e903e17a",
       "version_major": 2,
       "version_minor": 0
      },
      "text/plain": [
       "Output()"
      ]
     },
     "metadata": {},
     "output_type": "display_data"
    }
   ],
   "source": [
    "# This is how we run the task in Jupyter since there is already an event loop.\n",
    "  \n",
    "def on_button_clicked(b):\n",
    "    out.clear_output()\n",
    "    loop.create_task(train_info(out))\n",
    "\n",
    "button.on_click(on_button_clicked)\n",
    "display(button, out)"
   ]
  },
  {
   "cell_type": "code",
   "execution_count": null,
   "id": "9dc7e5e4-66cd-47df-887a-59077e139f31",
   "metadata": {},
   "outputs": [],
   "source": []
  }
 ],
 "metadata": {
  "kernelspec": {
   "display_name": "Python [conda env:root] *",
   "language": "python",
   "name": "conda-root-py"
  },
  "language_info": {
   "codemirror_mode": {
    "name": "ipython",
    "version": 3
   },
   "file_extension": ".py",
   "mimetype": "text/x-python",
   "name": "python",
   "nbconvert_exporter": "python",
   "pygments_lexer": "ipython3",
   "version": "3.9.13"
  }
 },
 "nbformat": 4,
 "nbformat_minor": 5
}
